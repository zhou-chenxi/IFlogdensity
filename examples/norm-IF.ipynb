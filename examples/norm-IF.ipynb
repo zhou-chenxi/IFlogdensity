{
 "cells": [
  {
   "cell_type": "code",
   "execution_count": null,
   "id": "46514d0c",
   "metadata": {},
   "outputs": [],
   "source": [
    "import os\n",
    "import copy\n",
    "import numpy as np\n",
    "import pandas as pd\n",
    "import seaborn\n",
    "import matplotlib.pyplot as plt \n",
    "import matplotlib.gridspec as gridspec\n",
    "\n",
    "from dekef.base_density import *\n",
    "\n",
    "from IFdensity.contam_sm_de import *\n",
    "from IFdensity.influence_function import *\n",
    "\n",
    "from IPython.display import Markdown as md"
   ]
  },
  {
   "cell_type": "code",
   "execution_count": null,
   "id": "8dc60fae",
   "metadata": {},
   "outputs": [],
   "source": [
    "os.chdir('/Users/chenxizhou/Dropbox/code_package/IFdensity')\n",
    "true_data = np.load('data/geyser.npy').astype(np.float64)\n",
    "df = copy.deepcopy(true_data[:, 0]).reshape(-1, 1)\n",
    "\n",
    "# original data with 108.0 removed \n",
    "data_waiting = df[df != 108.0]\n",
    "\n",
    "# bandwidth parameter in the Gaussian kernel function\n",
    "bw = 7.0\n",
    "\n",
    "# penalty parameter \n",
    "log_pen_param = -10.0\n",
    "\n",
    "# base density \n",
    "base_density = BasedenGamma(np.load('data/geyser.npy').astype(np.float64)[:, 0])\n",
    "\n",
    "plot_kwargs = plot_IF_1d_params(x_limit=(21., 410.), plot_pts_cnt = 2000)"
   ]
  },
  {
   "cell_type": "code",
   "execution_count": null,
   "id": "fbfd8a67",
   "metadata": {
    "scrolled": true
   },
   "outputs": [],
   "source": [
    "# contaminated data \n",
    "contam_data_list = np.arange(50., 510., 10)\n",
    "bw_list = [5., 7., 9.]\n",
    "log_pen_param_list = [-8., -10., -12.]\n",
    "if_norm = {}\n",
    "if_limit_norm = {}\n",
    "\n",
    "for bw in bw_list: \n",
    "    for log_pen_param in log_pen_param_list: \n",
    "        \n",
    "        print('=' * 50)\n",
    "        print(f'bw={bw}, lambda={log_pen_param}')\n",
    "        \n",
    "        if_norm[f'bw={bw}, lambda={log_pen_param}'] = []\n",
    "        if_limit_norm[f'bw={bw}, lambda={log_pen_param}'] = []\n",
    "        \n",
    "        for contam_pt in contam_data_list: \n",
    "            \n",
    "            if contam_pt % 50 == 0: \n",
    "                print('-' * 50)\n",
    "                print(f'Current contaminated data point is {contam_pt}.')\n",
    "\n",
    "            contam_data = np.array([[contam_pt]])\n",
    "\n",
    "            ifun = SMInfluenceFunction(\n",
    "                data = data_waiting, \n",
    "                contam_data = contam_data, \n",
    "                contam_weight = 1e-8, \n",
    "                penalty_param = np.exp(log_pen_param), \n",
    "                base_density = base_density, \n",
    "                bw = bw)\n",
    "\n",
    "            if_norm[f'bw={bw}, lambda={log_pen_param}'].append(ifun.eval_IF_natparam_norm())\n",
    "\n",
    "            if_limit_norm[f'bw={bw}, lambda={log_pen_param}'].append(ifun.eval_IF_natparam_limit_norm_1d())\n"
   ]
  },
  {
   "cell_type": "code",
   "execution_count": null,
   "id": "f09f8e52",
   "metadata": {
    "scrolled": true
   },
   "outputs": [],
   "source": [
    "plt.plot(contam_data_list, if_norm, 'b-')\n",
    "plt.plot(contam_data_list, if_limit_norm, 'r-')"
   ]
  },
  {
   "cell_type": "code",
   "execution_count": null,
   "id": "287907ea",
   "metadata": {},
   "outputs": [],
   "source": []
  },
  {
   "cell_type": "code",
   "execution_count": null,
   "id": "1f9800c4",
   "metadata": {},
   "outputs": [],
   "source": [
    "import pandas as pd "
   ]
  },
  {
   "cell_type": "code",
   "execution_count": null,
   "id": "e52e4138",
   "metadata": {},
   "outputs": [],
   "source": []
  },
  {
   "cell_type": "code",
   "execution_count": null,
   "id": "01cf25b4",
   "metadata": {},
   "outputs": [],
   "source": [
    "?pd.concat"
   ]
  },
  {
   "cell_type": "code",
   "execution_count": null,
   "id": "de520643",
   "metadata": {},
   "outputs": [],
   "source": []
  },
  {
   "cell_type": "code",
   "execution_count": null,
   "id": "1f5b7393",
   "metadata": {},
   "outputs": [],
   "source": [
    "output_pd = pd.DataFrame()\n",
    "for bw in bw_list: \n",
    "    for log_pen_param in log_pen_param_list: \n",
    "        \n",
    "        sub_df = {}\n",
    "        \n",
    "        sub_df['bw'] = [bw] * len(contam_data_list)\n",
    "        sub_df['loglambda'] = [log_pen_param] * len(contam_data_list)\n",
    "        sub_df['contam_data'] = contam_data_list\n",
    "        sub_df['IFnorm'] = if_norm[f'bw={bw}, lambda={log_pen_param}']\n",
    "        sub_df['IFnorm_lim'] = if_limit_norm[f'bw={bw}, lambda={log_pen_param}']\n",
    "        \n",
    "        output_pd = pd.concat([output_pd, pd.DataFrame(sub_df)])\n",
    "        "
   ]
  },
  {
   "cell_type": "code",
   "execution_count": null,
   "id": "1273c501",
   "metadata": {},
   "outputs": [],
   "source": [
    "output_pd"
   ]
  },
  {
   "cell_type": "code",
   "execution_count": null,
   "id": "b4987067",
   "metadata": {},
   "outputs": [],
   "source": []
  },
  {
   "cell_type": "code",
   "execution_count": null,
   "id": "01709940",
   "metadata": {},
   "outputs": [],
   "source": [
    "bw = 5.\n",
    "logpen = -8.\n",
    "subdf = output_pd[(output_pd.bw == bw) & (output_pd.loglambda == logpen)]\n",
    "plt.figure(figsize = (10, 10))\n",
    "plt.plot(subdf.contam_data, subdf.IFnorm, color = 'tab:blue', linestyle = 'solid', linewidth = 2)\n",
    "plt.plot(subdf.contam_data, subdf.IFnorm_lim, color = 'tab:red', linestyle = 'dashed')\n",
    "plt.xlabel('contaminated observation', fontsize = 15)\n",
    "plt.ylabel('IF norm', fontsize = 15)\n",
    "plt.xticks(fontsize = 12)\n",
    "plt.yticks(fontsize = 12)\n",
    "plt.savefig(f'plots/IFnorm_natparam-bw={bw}-loglambda={logpen}.pdf')"
   ]
  },
  {
   "cell_type": "code",
   "execution_count": null,
   "id": "caf58a52",
   "metadata": {},
   "outputs": [],
   "source": [
    "\n",
    "\n",
    "fig = plt.figure(constrained_layout=False)\n",
    "fig.set_figheight(30)\n",
    "fig.set_figwidth(30)\n",
    "ncols = 3\n",
    "nrows = 3\n",
    "\n",
    "label_fontsize = 20\n",
    "info_fontsize = 25\n",
    "tick_fontsize = 18\n",
    "linewidth = 3.0\n",
    "x_label = 'contaminated observation'\n",
    "y_label = 'IF norm'\n",
    "\n",
    "spec = gridspec.GridSpec(ncols=ncols, nrows=nrows, figure=fig)\n",
    "\n",
    "for i in range(nrows): \n",
    "    for j in range(ncols): \n",
    "        \n",
    "        ax = fig.add_subplot(spec[i, j])\n",
    "        bw, log_pen_param = bw_list[i], log_pen_param_list[j]\n",
    "        \n",
    "        subdf = output_pd[(output_pd.bw == bw_list[i]) & (output_pd.loglambda == log_pen_param_list[j])]\n",
    "        ax.plot(subdf.contam_data, subdf.IFnorm, color = 'tab:blue', linestyle = 'solid', linewidth = 2)\n",
    "        ax.plot(subdf.contam_data, subdf.IFnorm_lim, color = 'tab:red', linestyle = 'dashed')\n",
    "    \n",
    "        if i == nrows - 1: \n",
    "            ax.set_xlabel(x_label, fontsize = label_fontsize)\n",
    "        else: \n",
    "            ax.set_xticks([])\n",
    "        if j == 0: \n",
    "            ax.set_ylabel(y_label, fontsize = label_fontsize)\n",
    "        \n",
    "        ax.tick_params(axis = 'both', labelsize = tick_fontsize)\n",
    "\n",
    "        info = r\"$\\sigma$={bw}, $\\lambda$=exp({pen})\".format(bw = bw_list[i], pen = log_pen_param_list[j])\n",
    "        ax.text(0.985, 0.055,\n",
    "                info,\n",
    "                fontsize = info_fontsize,\n",
    "                multialignment = 'left',\n",
    "                horizontalalignment = 'right',\n",
    "                verticalalignment = 'top',\n",
    "                transform = ax.transAxes,\n",
    "                bbox = {'facecolor': 'none',\n",
    "                        'boxstyle': 'Round, pad=0.2'})\n",
    "\n",
    "plt.tight_layout()\n",
    "plt.savefig('plots/geyser-waiting-natparam-IF-norm-limit.pdf')"
   ]
  },
  {
   "cell_type": "code",
   "execution_count": null,
   "id": "f2fac106",
   "metadata": {},
   "outputs": [],
   "source": []
  }
 ],
 "metadata": {
  "kernelspec": {
   "display_name": "Python 3",
   "language": "python",
   "name": "python3"
  },
  "language_info": {
   "codemirror_mode": {
    "name": "ipython",
    "version": 3
   },
   "file_extension": ".py",
   "mimetype": "text/x-python",
   "name": "python",
   "nbconvert_exporter": "python",
   "pygments_lexer": "ipython3",
   "version": "3.8.8"
  }
 },
 "nbformat": 4,
 "nbformat_minor": 5
}
