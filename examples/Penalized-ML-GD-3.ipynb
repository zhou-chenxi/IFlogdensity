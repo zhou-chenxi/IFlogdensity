{
 "cells": [
  {
   "cell_type": "code",
   "execution_count": null,
   "id": "46514d0c",
   "metadata": {},
   "outputs": [],
   "source": [
    "import os\n",
    "import copy\n",
    "import numpy as np\n",
    "import pandas as pd\n",
    "import seaborn\n",
    "import matplotlib.pyplot as plt \n",
    "\n",
    "from dekef.base_density import *\n",
    "\n",
    "from IFlogdensity.contam_ml_de import *\n",
    "\n",
    "from IPython.display import Markdown as md\n",
    "\n",
    "from datetime import datetime as dt"
   ]
  },
  {
   "cell_type": "code",
   "execution_count": null,
   "id": "894b4972",
   "metadata": {},
   "outputs": [],
   "source": [
    "os.chdir('/Users/chenxizhou/Dropbox/code_package/IFlogdensity')\n",
    "\n",
    "true_data = np.load('data/geyser.npy').astype(np.float64)\n",
    "df = copy.deepcopy(true_data[:, 0]).reshape(-1, 1)\n",
    "data_waiting = df[df != 108.0]\n",
    "\n",
    "xlimit = (1., 310.)\n",
    "plot_pts_cnt = 3000\n",
    "new_data = np.linspace(xlimit[0], xlimit[1], plot_pts_cnt)\n",
    "\n",
    "contam_weight = 1e-3\n",
    "\n",
    "kernel_type = 'gaussian_poly2'\n",
    "bw = 7.0\n",
    "log_pen_param = -2.\n",
    "\n",
    "var_name = 'additional observation'\n",
    "method = 'ML'\n",
    "\n",
    "base_density = BasedenGamma(data_waiting)\n",
    "seed_no = 1\n",
    "\n",
    "contam_pt_list = [20., 120., 150., 200.]"
   ]
  },
  {
   "cell_type": "markdown",
   "id": "ae932404",
   "metadata": {},
   "source": [
    "### Uncontaminated Density "
   ]
  },
  {
   "cell_type": "code",
   "execution_count": null,
   "id": "79c0e402",
   "metadata": {},
   "outputs": [],
   "source": [
    "uncontam_ml = ContamMLDensityEstimate(\n",
    "    data = data_waiting, \n",
    "    contam_data = np.array([contam_pt_list[0]]).reshape(-1, 1), \n",
    "    contam_weight = 0., \n",
    "    penalty_param = np.exp(log_pen_param), \n",
    "    base_density = base_density,\n",
    "    r1 = 1.0, \n",
    "    r2 = 0.0, \n",
    "    c = 0., \n",
    "    bw = bw, \n",
    "    kernel_type = 'gaussian_poly2')"
   ]
  },
  {
   "cell_type": "code",
   "execution_count": null,
   "id": "335d7f90",
   "metadata": {},
   "outputs": [],
   "source": [
    "start_grid_points = np.arange(1., 311., 1)\n",
    "gdalgo_params = negloglik_optalgoparams(\n",
    "        start_pt=np.zeros((start_grid_points.shape[0], 1)),\n",
    "        step_size=0.1,\n",
    "        max_iter=50,\n",
    "        rel_tol=1e-5,\n",
    "        abs_tol=0.05)\n",
    "\n",
    "bmc_params = batch_montecarlo_params(\n",
    "        mc_batch_size=5000,\n",
    "        mc_tol=5e-3)"
   ]
  },
  {
   "cell_type": "code",
   "execution_count": null,
   "id": "415948f5",
   "metadata": {},
   "outputs": [],
   "source": [
    "np.random.seed(seed_no)\n",
    "print(f'start time = {dt.now().strftime(\"%H:%M:%S\")}')\n",
    "uncontam_coef = uncontam_ml.coef_grid_points(\n",
    "    optalgo_params = gdalgo_params, \n",
    "    batchmc_params = bmc_params, \n",
    "    algo = 'gd', \n",
    "    step_size_factor = 1., \n",
    "    grid_points = start_grid_points, \n",
    "    print_error = True)\n",
    "print(f'end time = {dt.now().strftime(\"%H:%M:%S\")}')"
   ]
  },
  {
   "cell_type": "code",
   "execution_count": null,
   "id": "64c9f913",
   "metadata": {},
   "outputs": [],
   "source": [
    "kernel_function_grid = GaussianPoly2(\n",
    "    data=start_grid_points.reshape(-1, 1),\n",
    "    r1=uncontam_ml.r1,\n",
    "    r2=uncontam_ml.r2,\n",
    "    c=uncontam_ml.c,\n",
    "    bw=uncontam_ml.bw)\n",
    "\n",
    "gram_grid = kernel_function_grid.kernel_gram_matrix(start_grid_points.reshape(-1, 1))\n",
    "\n",
    "uncontam_norm = np.sqrt(uncontam_coef[0].T @ gram_grid @ uncontam_coef[0]).item()\n",
    "\n",
    "uncontam_norm"
   ]
  },
  {
   "cell_type": "code",
   "execution_count": null,
   "id": "060db142",
   "metadata": {},
   "outputs": [],
   "source": [
    "uncontam_logden_vals = uncontam_ml.log_density(new_data, uncontam_coef, True)\n",
    "\n",
    "plt.figure(figsize = (10, 10))\n",
    "plt.plot(new_data, np.exp(uncontam_logden_vals), color = 'tab:blue', lw = 3.0)\n",
    "plt.hist(data_waiting, bins='fd', density = True, alpha = 0.3, color = 'tab:green')\n",
    "# plt.axvline(x = 20., color = 'k', linestyle='--')\n",
    "plt.show()"
   ]
  },
  {
   "cell_type": "code",
   "execution_count": null,
   "id": "d21e3e03",
   "metadata": {},
   "outputs": [],
   "source": [
    "for contam_pt in contam_pt_list: \n",
    "    full_save_folder = (f'data/PenML-GD-ContamData={contam_pt}-basisn={len(start_grid_points)}-bw={bw}-kernel={kernel_type}-' + \n",
    "                        f'contamweight={contam_weight}-plotdomain={xlimit}-plotcnts={plot_pts_cnt}-' + \n",
    "                        f'seed={seed_no}-new')\n",
    "    if not os.path.isdir(full_save_folder):\n",
    "        os.mkdir(full_save_folder)\n",
    "\n",
    "    file_name_newdata = f'/new_data.npy'\n",
    "    np.save(full_save_folder + file_name_newdata, new_data)\n",
    "\n",
    "    file_name_grid_points = f'/grid_points.npy'\n",
    "    np.save(full_save_folder + file_name_grid_points, start_grid_points)\n",
    "\n",
    "    file_name_coef = f'/logpenparam={log_pen_param}-uncontam-coef.npy'\n",
    "    np.save(full_save_folder + file_name_coef, uncontam_coef[0])\n",
    "\n",
    "    file_name_diff = f'/logpenparam={log_pen_param}-uncontam-logden-newdata.npy'\n",
    "    np.save(full_save_folder + file_name_diff, uncontam_logden_vals)"
   ]
  },
  {
   "cell_type": "code",
   "execution_count": null,
   "id": "d99ac184",
   "metadata": {},
   "outputs": [],
   "source": []
  },
  {
   "cell_type": "markdown",
   "id": "1da54535",
   "metadata": {},
   "source": [
    "### Contaminated Density "
   ]
  },
  {
   "cell_type": "code",
   "execution_count": null,
   "id": "63759e01",
   "metadata": {
    "scrolled": false
   },
   "outputs": [],
   "source": [
    "for contam_pt in contam_pt_list: \n",
    "    contam_ml = ContamMLDensityEstimate(\n",
    "        data = data_waiting, \n",
    "        contam_data = np.array(contam_pt).reshape(-1, 1), \n",
    "        contam_weight = contam_weight, \n",
    "        penalty_param = np.exp(log_pen_param), \n",
    "        base_density = base_density,\n",
    "        r1 = 1.0, \n",
    "        r2 = 0.0, \n",
    "        c = 0., \n",
    "        bw = bw, \n",
    "        kernel_type = 'gaussian_poly2')\n",
    "    \n",
    "    np.random.seed(seed_no)\n",
    "    print(f'start time = {dt.now().strftime(\"%H:%M:%S\")}')\n",
    "    contam_coef = contam_ml.coef_grid_points(\n",
    "        optalgo_params = gdalgo_params, \n",
    "        batchmc_params = bmc_params, \n",
    "        algo = 'gd', \n",
    "        step_size_factor = 1.0, \n",
    "        grid_points = start_grid_points, \n",
    "        print_error = True)\n",
    "    print(f'end time = {dt.now().strftime(\"%H:%M:%S\")}')\n",
    "    \n",
    "    contam_norm = np.sqrt(contam_coef[0].T @ gram_grid @ contam_coef[0]).item()\n",
    "    \n",
    "    contam_logden_vals = contam_ml.log_density(new_data, contam_coef, True)\n",
    "\n",
    "    plt.figure(figsize = (10, 10))\n",
    "    plt.plot(new_data, np.exp(contam_logden_vals), color = 'tab:blue', lw = 3.0)\n",
    "    plt.hist(data_waiting, bins='fd', density = True, alpha = 0.3, color = 'tab:green')\n",
    "    plt.axvline(x = contam_pt, color = 'k', linestyle='--')\n",
    "    plt.show()\n",
    "    \n",
    "    IF_vals = (contam_logden_vals - uncontam_logden_vals) / contam_weight\n",
    "\n",
    "    plt.figure(figsize = (10, 10))\n",
    "    plt.plot(new_data, IF_vals, color = 'tab:blue', lw = 3.0)\n",
    "    plt.axvline(x = contam_pt, color = 'k', linestyle='--')\n",
    "    plt.show()\n",
    "    \n",
    "    full_save_folder = (f'data/PenML-GD-ContamData={contam_pt}-basisn={len(start_grid_points)}-bw={bw}-kernel={kernel_type}-' + \n",
    "                        f'contamweight={contam_weight}-plotdomain={xlimit}-plotcnts={plot_pts_cnt}-' + \n",
    "                        f'seed={seed_no}-new')\n",
    "    \n",
    "    # save coefficients \n",
    "    file_name_coef = f'/logpenparam={log_pen_param}-contam-coef.npy'\n",
    "    np.save(full_save_folder + file_name_coef, contam_coef[0])\n",
    "\n",
    "    file_name_diff = f'/logpenparam={log_pen_param}-contam-logden-newdata.npy'\n",
    "    np.save(full_save_folder + file_name_diff, contam_logden_vals)\n",
    "\n",
    "    file_name_ifvals = f'/logpenparam={log_pen_param}-IF-newdata.npy'\n",
    "    np.save(full_save_folder + file_name_ifvals, IF_vals)\n",
    "    \n",
    "    print(uncontam_norm, contam_norm, np.max(np.abs(IF_vals)))"
   ]
  },
  {
   "cell_type": "code",
   "execution_count": null,
   "id": "a39607a4",
   "metadata": {},
   "outputs": [],
   "source": []
  },
  {
   "cell_type": "code",
   "execution_count": null,
   "id": "42f811ae",
   "metadata": {},
   "outputs": [],
   "source": []
  }
 ],
 "metadata": {
  "kernelspec": {
   "display_name": "Python 3",
   "language": "python",
   "name": "python3"
  },
  "language_info": {
   "codemirror_mode": {
    "name": "ipython",
    "version": 3
   },
   "file_extension": ".py",
   "mimetype": "text/x-python",
   "name": "python",
   "nbconvert_exporter": "python",
   "pygments_lexer": "ipython3",
   "version": "3.8.8"
  }
 },
 "nbformat": 4,
 "nbformat_minor": 5
}
