{
 "cells": [
  {
   "cell_type": "code",
   "execution_count": 6,
   "id": "0df81db3",
   "metadata": {},
   "outputs": [
    {
     "data": {
      "text/plain": [
       "array([6, 7, 5])"
      ]
     },
     "execution_count": 6,
     "metadata": {},
     "output_type": "execute_result"
    }
   ],
   "source": [
    "import numpy as np\n",
    "dd = np.array([3, 4,2])\n",
    "dd + 3"
   ]
  },
  {
   "cell_type": "code",
   "execution_count": null,
   "id": "6ac900f0",
   "metadata": {},
   "outputs": [],
   "source": []
  },
  {
   "cell_type": "code",
   "execution_count": null,
   "id": "d82eb9f1",
   "metadata": {},
   "outputs": [],
   "source": []
  },
  {
   "cell_type": "code",
   "execution_count": null,
   "id": "247ecac2",
   "metadata": {},
   "outputs": [],
   "source": []
  },
  {
   "cell_type": "code",
   "execution_count": null,
   "id": "9c2be5f9",
   "metadata": {},
   "outputs": [],
   "source": []
  },
  {
   "cell_type": "code",
   "execution_count": 7,
   "id": "ee476549",
   "metadata": {},
   "outputs": [],
   "source": [
    "dd={}"
   ]
  },
  {
   "cell_type": "code",
   "execution_count": 9,
   "id": "3e4b9da4",
   "metadata": {},
   "outputs": [],
   "source": [
    "dd[str(32)] = 3"
   ]
  },
  {
   "cell_type": "code",
   "execution_count": 10,
   "id": "16a960a6",
   "metadata": {},
   "outputs": [
    {
     "data": {
      "text/plain": [
       "{'32': 3}"
      ]
     },
     "execution_count": 10,
     "metadata": {},
     "output_type": "execute_result"
    }
   ],
   "source": [
    "dd"
   ]
  },
  {
   "cell_type": "code",
   "execution_count": null,
   "id": "cde9adfe",
   "metadata": {},
   "outputs": [],
   "source": []
  }
 ],
 "metadata": {
  "kernelspec": {
   "display_name": "Python 3",
   "language": "python",
   "name": "python3"
  },
  "language_info": {
   "codemirror_mode": {
    "name": "ipython",
    "version": 3
   },
   "file_extension": ".py",
   "mimetype": "text/x-python",
   "name": "python",
   "nbconvert_exporter": "python",
   "pygments_lexer": "ipython3",
   "version": "3.8.8"
  }
 },
 "nbformat": 4,
 "nbformat_minor": 5
}
