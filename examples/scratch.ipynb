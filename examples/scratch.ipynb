{
 "cells": [
  {
   "cell_type": "code",
   "execution_count": 1,
   "id": "46514d0c",
   "metadata": {},
   "outputs": [],
   "source": [
    "import os\n",
    "import copy\n",
    "import numpy as np\n",
    "import pandas as pd\n",
    "import seaborn\n",
    "import matplotlib.pyplot as plt \n",
    "\n",
    "from dekef.base_density import *\n",
    "\n",
    "from IFdensity.contam_sm_de import *\n",
    "from IFdensity.influence_function import *\n",
    "\n",
    "from IPython.display import Markdown as md"
   ]
  },
  {
   "cell_type": "code",
   "execution_count": 2,
   "id": "8dc60fae",
   "metadata": {},
   "outputs": [],
   "source": [
    "os.chdir('/Users/chenxizhou/Dropbox/code_package/IFdensity')\n",
    "true_data = np.load('data/geyser.npy').astype(np.float64)\n",
    "df = copy.deepcopy(true_data[:, 0]).reshape(-1, 1)\n",
    "\n",
    "# original data with 108.0 removed \n",
    "data_waiting = df[df != 108.0]\n",
    "\n",
    "# bandwidth parameter in the Gaussian kernel function\n",
    "bw = 7.0\n",
    "\n",
    "# penalty parameter \n",
    "log_pen_param = -10.0\n",
    "\n",
    "# base density \n",
    "base_density = BasedenGamma(np.load('data/geyser.npy').astype(np.float64)[:, 0])\n",
    "\n",
    "plot_kwargs = plot_IF_1d_params(x_limit=(21., 410.), plot_pts_cnt = 2000)"
   ]
  },
  {
   "cell_type": "code",
   "execution_count": null,
   "id": "fbfd8a67",
   "metadata": {
    "scrolled": true
   },
   "outputs": [
    {
     "name": "stdout",
     "output_type": "stream",
     "text": [
      "--------------------------------------------------\n",
      "Current contaminated data point is 1e+20.\n",
      "4.5399929762484854e-05\n",
      "K11 = (298, 298), K12 = (298, 1), K13 = (298, 1), K14 = (298, 1)\n",
      "K21 = (1, 298), K23 = (1, 1).\n",
      "coef1_1, (298, 1), coef1_2, (298, 1), coef1_3, (298, 1)\n",
      "coef1, (298, 1), coef2, (1, 1)\n",
      "coef, (301, 1)\n",
      "--------------------------------------------------\n",
      "Current contaminated data point is 2e+20.\n"
     ]
    }
   ],
   "source": [
    "# contaminated data \n",
    "contam_data_list = np.linspace(1e20, 1e21, 10)\n",
    "if_norm = []\n",
    "if_limit_norm = []\n",
    "for contam_pt in contam_data_list: \n",
    "    \n",
    "    print('-' * 50)\n",
    "    print(f'Current contaminated data point is {contam_pt}.')\n",
    "    \n",
    "    contam_data = np.array([[contam_pt]])\n",
    "    \n",
    "    ifun = SMInfluenceFunction(\n",
    "        data = data_waiting, \n",
    "        contam_data = contam_data, \n",
    "        contam_weight = 1e-8, \n",
    "        penalty_param = np.exp(log_pen_param), \n",
    "        base_density = base_density, \n",
    "        bw = bw)\n",
    "    \n",
    "#     ifun1 = ifun.plot_IF_logdensity_1d(plot_kwargs, 'waiting')\n",
    "#     ifun2 = ifun.plot_IF_natparam_1d(plot_kwargs, 'waiting')\n",
    "#     ifun3 = ifun.plot_IF_natparam_limit_1d(plot_kwargs, 'waiting')\n",
    "    \n",
    "    if_norm.append(ifun.eval_IF_natparam_norm())\n",
    "\n",
    "    if_limit_norm.append(ifun.eval_IF_natparam_limit_norm_1d())\n",
    "\n",
    "plt.plot(contam_data_list, if_norm, 'b-')\n",
    "plt.plot(contam_data_list, if_limit_norm, 'r-')"
   ]
  },
  {
   "cell_type": "code",
   "execution_count": null,
   "id": "9939546f",
   "metadata": {},
   "outputs": [],
   "source": []
  },
  {
   "cell_type": "code",
   "execution_count": null,
   "id": "a9305606",
   "metadata": {
    "scrolled": true
   },
   "outputs": [],
   "source": []
  },
  {
   "cell_type": "code",
   "execution_count": 8,
   "id": "97940d48",
   "metadata": {},
   "outputs": [],
   "source": [
    "contam_pt = 250.\n",
    "contam_data = np.array([[contam_pt]])\n",
    "cde = ContamSMDensityEstimate(\n",
    "        data = data_waiting, \n",
    "        contam_data = contam_data, \n",
    "        contam_weight = 1e-8, \n",
    "        penalty_param = np.exp(log_pen_param), \n",
    "        base_density = base_density, \n",
    "        bw = bw)"
   ]
  },
  {
   "cell_type": "code",
   "execution_count": 5,
   "id": "a7adcc60",
   "metadata": {},
   "outputs": [
    {
     "data": {
      "text/plain": [
       "1345.5946779512853"
      ]
     },
     "execution_count": 5,
     "metadata": {},
     "output_type": "execute_result"
    }
   ],
   "source": [
    "if_limit_norm[0]"
   ]
  },
  {
   "cell_type": "code",
   "execution_count": null,
   "id": "ec18caf2",
   "metadata": {},
   "outputs": [],
   "source": []
  },
  {
   "cell_type": "code",
   "execution_count": 15,
   "id": "9ea896a2",
   "metadata": {},
   "outputs": [],
   "source": [
    "def eval_IF_natparam_limit_norm_1d(contam_density, base_density):\n",
    "\n",
    "    N, d = contam_density.N, contam_density.d\n",
    "    assert d == 1, f'The function eval_IF_natparam_limit_norm_1d only works for 1-dimensional data, ' \\\n",
    "                   f'but got {d}-dimensional data.'\n",
    "\n",
    "    pen_param = contam_density.penalty_param\n",
    "    K11 = contam_density.matrix_K11()\n",
    "    K13 = contam_density.matrix_K13()\n",
    "    K31 = contam_density.matrix_K31()\n",
    "    K33 = contam_density.matrix_K33()\n",
    "    K11_inv = np.linalg.inv(K11 + N * pen_param * np.eye(N * d))\n",
    "    prod1 = np.matmul(K11, K11_inv)\n",
    "    prod2 = np.matmul(prod1, K13) - 2. * K13\n",
    "    prod3 = np.matmul(K11_inv, prod2)\n",
    "    gamma_coef = - prod3 / pen_param\n",
    "    coef = np.vstack((gamma_coef, -1. / pen_param)).reshape(-1, 1)\n",
    "    \n",
    "    large_mat_row1 = np.hstack((K11, K13))\n",
    "    large_mat_row2 = np.hstack((K31, K33))\n",
    "    large_mat = np.vstack((large_mat_row1, large_mat_row2))\n",
    "    \n",
    "    part1 = np.matmul(coef.T, (np.matmul(large_mat, coef))).item()\n",
    "\n",
    "    # norm{z_{delta_y}}^2 / pen_param ** 2\n",
    "    if base_density.name == 'Gamma':\n",
    "        mu_limit = - 1. / base_density.scale\n",
    "\n",
    "    if contam_density.kernel_type == 'gaussian_poly2':\n",
    "\n",
    "        if contam_density.kernel_function_data.r2 != 0.:\n",
    "            raise ValueError('In order to use the function eval_IF_natparam_limit_norm_1d, must set r2 to be 0.')\n",
    "\n",
    "        ker11 = contam_density.kernel_function_data.r1 * 1. / contam_density.kernel_function_data.bw ** 2\n",
    "        ker12 = 0.\n",
    "        ker22 = contam_density.kernel_function_data.r1 * 3. / contam_density.kernel_function_data.bw ** 4\n",
    "\n",
    "    elif contam_density.kernel_type == 'rationalquad_poly2':\n",
    "\n",
    "        if contam_density.kernel_function_data.r2 != 0.:\n",
    "            raise ValueError('In order to use the function eval_IF_natparam_limit_norm_1d, must set r2 to be 0.')\n",
    "\n",
    "        ker11 = contam_density.kernel_function_data.r1 * 2. / contam_density.kernel_function_data.bw ** 2\n",
    "        ker12 = 0.\n",
    "        ker22 = contam_density.kernel_function_data.r1 * 24. / contam_density.kernel_function_data.bw ** 4\n",
    "\n",
    "    part3 = (ker22 + 2. * mu_limit * ker12 + mu_limit ** 2 * ker11) / pen_param ** 2\n",
    "\n",
    "\n",
    "    output = part1 + part3\n",
    "\n",
    "    return np.sqrt(output)\n"
   ]
  },
  {
   "cell_type": "code",
   "execution_count": 16,
   "id": "f5032110",
   "metadata": {},
   "outputs": [
    {
     "data": {
      "text/plain": [
       "1345.5946779512851"
      ]
     },
     "execution_count": 16,
     "metadata": {},
     "output_type": "execute_result"
    }
   ],
   "source": [
    "eval_IF_natparam_limit_norm_1d(cde, base_density)"
   ]
  },
  {
   "cell_type": "code",
   "execution_count": null,
   "id": "832abfe9",
   "metadata": {},
   "outputs": [],
   "source": [
    "z1, z2, z4, z3, cde.n"
   ]
  },
  {
   "cell_type": "code",
   "execution_count": null,
   "id": "09be0b91",
   "metadata": {},
   "outputs": [],
   "source": [
    "kf = GaussianPoly2(data = data_waiting.reshape(-1, 1), r1 = 1., r2 = 0., c = 0., bw = bw)"
   ]
  },
  {
   "cell_type": "code",
   "execution_count": null,
   "id": "fa655726",
   "metadata": {},
   "outputs": [],
   "source": []
  },
  {
   "cell_type": "code",
   "execution_count": null,
   "id": "55442162",
   "metadata": {},
   "outputs": [],
   "source": [
    "kernel_partial_11 = kf.partial_kernel_matrix_11(new_data=contam_data)\n",
    "data_waiting = data_waiting.reshape(-1, 1)\n",
    "baseden_partial_data = np.zeros(data_waiting.shape, dtype=np.float64)\n",
    "for u in range(data_waiting.shape[1]):\n",
    "    baseden_partial_data[:, u] = base_density.logbaseden_deriv1(\n",
    "        new_data=data_waiting, j=u).flatten()\n",
    "baseden_partial_data = baseden_partial_data.reshape(-1, 1)\n",
    "\n",
    "baseden_partial_contam_data = np.zeros(contam_data.shape, dtype=np.float64)\n",
    "for u in range(contam_data.shape[1]):\n",
    "    baseden_partial_contam_data[:, u] = base_density.logbaseden_deriv1(\n",
    "        new_data=contam_data, j=u).flatten()\n",
    "baseden_partial_contam_data = baseden_partial_contam_data.reshape(-1, 1)\n",
    "\n",
    "z4 = np.matmul(baseden_partial_data.T, np.matmul(kernel_partial_11, baseden_partial_contam_data))"
   ]
  },
  {
   "cell_type": "code",
   "execution_count": null,
   "id": "1e837f10",
   "metadata": {},
   "outputs": [],
   "source": [
    "z1 = np.sum(kf.partial_kernel_matrix_22(new_data=contam_data))"
   ]
  },
  {
   "cell_type": "code",
   "execution_count": null,
   "id": "1e0880ca",
   "metadata": {},
   "outputs": [],
   "source": [
    "kernel_partial_12 = kf.partial_kernel_matrix_12(new_data=contam_data)\n",
    "z3 = np.sum(baseden_partial_data * kernel_partial_12)"
   ]
  },
  {
   "cell_type": "code",
   "execution_count": null,
   "id": "a5dbd7ac",
   "metadata": {},
   "outputs": [],
   "source": [
    "kernel_partial_21 = kf.partial_kernel_matrix_21(new_data=contam_data)\n",
    "z2 = np.sum(np.matmul(kernel_partial_21, baseden_partial_contam_data))"
   ]
  },
  {
   "cell_type": "code",
   "execution_count": null,
   "id": "f57dc377",
   "metadata": {},
   "outputs": [],
   "source": [
    "(z1 + z2 + z3 + z4) /298"
   ]
  },
  {
   "cell_type": "code",
   "execution_count": null,
   "id": "6ff4915a",
   "metadata": {},
   "outputs": [],
   "source": [
    "(result341+ result342+ result343+ result344)/298"
   ]
  },
  {
   "cell_type": "code",
   "execution_count": null,
   "id": "60308756",
   "metadata": {},
   "outputs": [],
   "source": []
  }
 ],
 "metadata": {
  "kernelspec": {
   "display_name": "Python 3",
   "language": "python",
   "name": "python3"
  },
  "language_info": {
   "codemirror_mode": {
    "name": "ipython",
    "version": 3
   },
   "file_extension": ".py",
   "mimetype": "text/x-python",
   "name": "python",
   "nbconvert_exporter": "python",
   "pygments_lexer": "ipython3",
   "version": "3.8.8"
  }
 },
 "nbformat": 4,
 "nbformat_minor": 5
}
