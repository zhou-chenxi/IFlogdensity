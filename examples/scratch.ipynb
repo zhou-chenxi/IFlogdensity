{
 "cells": [
  {
   "cell_type": "code",
   "execution_count": null,
   "id": "46514d0c",
   "metadata": {},
   "outputs": [],
   "source": [
    "import os\n",
    "import copy\n",
    "import numpy as np\n",
    "import pandas as pd\n",
    "import seaborn\n",
    "import matplotlib.pyplot as plt \n",
    "\n",
    "from dekef.base_density import *\n",
    "\n",
    "from IFdensity.contam_sm_de import *\n",
    "from IFdensity.influence_function import *\n",
    "\n",
    "from IPython.display import Markdown as md"
   ]
  },
  {
   "cell_type": "code",
   "execution_count": null,
   "id": "8dc60fae",
   "metadata": {},
   "outputs": [],
   "source": [
    "os.chdir('/Users/chenxizhou/Dropbox/code_package/IFdensity')\n",
    "true_data = np.load('data/geyser.npy').astype(np.float64)\n",
    "df = copy.deepcopy(true_data[:, 0]).reshape(-1, 1)\n",
    "\n",
    "# original data with 108.0 removed \n",
    "data_waiting = df[df != 108.0]\n",
    "\n",
    "# bandwidth parameter in the Gaussian kernel function\n",
    "bw = 5.0\n",
    "\n",
    "# penalty parameter \n",
    "log_pen_param = -8.0\n",
    "\n",
    "# base density \n",
    "base_density = BasedenGamma(np.load('data/geyser.npy').astype(np.float64)[:, 0])\n",
    "\n",
    "plot_kwargs = plot_IF_1d_params(x_limit=(21., 410.), plot_pts_cnt = 2000, figsize = (20, 10))"
   ]
  },
  {
   "cell_type": "code",
   "execution_count": null,
   "id": "fbfd8a67",
   "metadata": {
    "scrolled": false
   },
   "outputs": [],
   "source": [
    "# contaminated data \n",
    "contam_data_list = [250.] # np.linspace(90., 500., 10) # np.linspace(1e20, 1e21, 10)\n",
    "if_norm = []\n",
    "if_limit_norm = []\n",
    "for contam_pt in contam_data_list: \n",
    "    \n",
    "    print('-' * 50)\n",
    "    print(f'Current contaminated data point is {contam_pt}.')\n",
    "    \n",
    "    contam_data = np.array([[contam_pt]])\n",
    "    \n",
    "    ifun = SMInfluenceFunction(\n",
    "        data = data_waiting, \n",
    "        contam_data = contam_data, \n",
    "        contam_weight = 1e-8, \n",
    "        penalty_param = np.exp(log_pen_param), \n",
    "        base_density = base_density, \n",
    "        bw = bw)\n",
    "    \n",
    "    ifun1 = ifun.plot_IF_logdensity_1d(plot_kwargs, 'waiting')\n",
    "    ifun2 = ifun.plot_IF_natparam_1d(plot_kwargs, 'waiting')\n",
    "    ifun3 = ifun.plot_IF_natparam_limit_1d(plot_kwargs, 'waiting')\n",
    "    \n",
    "#     if_norm.append(ifun.eval_IF_natparam_norm())\n",
    "\n",
    "#     if_limit_norm.append(ifun.eval_IF_natparam_limit_norm_1d())\n",
    "\n",
    "# plt.plot(contam_data_list, if_norm, 'b-')\n",
    "# plt.plot(contam_data_list, if_limit_norm, 'r-')"
   ]
  },
  {
   "cell_type": "code",
   "execution_count": null,
   "id": "9f1150a5",
   "metadata": {},
   "outputs": [],
   "source": []
  }
 ],
 "metadata": {
  "kernelspec": {
   "display_name": "Python 3",
   "language": "python",
   "name": "python3"
  },
  "language_info": {
   "codemirror_mode": {
    "name": "ipython",
    "version": 3
   },
   "file_extension": ".py",
   "mimetype": "text/x-python",
   "name": "python",
   "nbconvert_exporter": "python",
   "pygments_lexer": "ipython3",
   "version": "3.8.8"
  }
 },
 "nbformat": 4,
 "nbformat_minor": 5
}
