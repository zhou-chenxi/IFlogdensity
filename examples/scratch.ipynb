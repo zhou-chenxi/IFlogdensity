{
 "cells": [
  {
   "cell_type": "code",
   "execution_count": 4,
   "id": "46514d0c",
   "metadata": {},
   "outputs": [],
   "source": [
    "import os\n",
    "import copy\n",
    "import numpy as np\n",
    "import pandas as pd\n",
    "import seaborn\n",
    "import matplotlib.pyplot as plt \n",
    "\n",
    "from dekef.base_density import *\n",
    "\n",
    "from IFdensity.contam_sm_de import *\n",
    "from IFdensity.influence_function import *\n",
    "\n",
    "from IPython.display import Markdown as md"
   ]
  },
  {
   "cell_type": "code",
   "execution_count": 2,
   "id": "8dc60fae",
   "metadata": {},
   "outputs": [],
   "source": [
    "os.chdir('/Users/chenxizhou/Dropbox/code_package/IFdensity')\n",
    "true_data = np.load('data/geyser.npy').astype(np.float64)\n",
    "df = copy.deepcopy(true_data[:, 0]).reshape(-1, 1)\n",
    "\n",
    "# original data with 108.0 removed \n",
    "data_waiting = df[df != 108.0]\n",
    "\n",
    "# bandwidth parameter in the Gaussian kernel function\n",
    "bw = 7.0\n",
    "\n",
    "# penalty parameter \n",
    "log_pen_param = -10.0\n",
    "\n",
    "# base density \n",
    "base_density = BasedenGamma(np.load('data/geyser.npy').astype(np.float64)[:, 0])\n",
    "\n",
    "plot_kwargs = plot_IF_1d_params(x_limit=(21., 410.), plot_pts_cnt = 2000)"
   ]
  },
  {
   "cell_type": "code",
   "execution_count": null,
   "id": "3b0cfdb0",
   "metadata": {},
   "outputs": [],
   "source": [
    "base_density.name"
   ]
  },
  {
   "cell_type": "code",
   "execution_count": 3,
   "id": "fbfd8a67",
   "metadata": {
    "scrolled": true
   },
   "outputs": [
    {
     "name": "stdout",
     "output_type": "stream",
     "text": [
      "--------------------------------------------------\n",
      "Current contaminated data point is 90.0.\n",
      "(298, 1) (1, 1)\n",
      "(298, 1) (1, 1)\n",
      "--------------------------------------------------\n",
      "Current contaminated data point is 100.0.\n",
      "(298, 1) (1, 1)\n",
      "(298, 1) (1, 1)\n",
      "--------------------------------------------------\n",
      "Current contaminated data point is 110.0.\n",
      "(298, 1) (1, 1)\n",
      "(298, 1) (1, 1)\n",
      "--------------------------------------------------\n",
      "Current contaminated data point is 120.0.\n",
      "(298, 1) (1, 1)\n",
      "(298, 1) (1, 1)\n",
      "--------------------------------------------------\n",
      "Current contaminated data point is 130.0.\n",
      "(298, 1) (1, 1)\n",
      "(298, 1) (1, 1)\n",
      "--------------------------------------------------\n",
      "Current contaminated data point is 140.0.\n",
      "(298, 1) (1, 1)\n",
      "(298, 1) (1, 1)\n",
      "--------------------------------------------------\n",
      "Current contaminated data point is 150.0.\n",
      "(298, 1) (1, 1)\n",
      "(298, 1) (1, 1)\n",
      "--------------------------------------------------\n",
      "Current contaminated data point is 160.0.\n",
      "(298, 1) (1, 1)\n",
      "(298, 1) (1, 1)\n",
      "--------------------------------------------------\n",
      "Current contaminated data point is 170.0.\n",
      "(298, 1) (1, 1)\n",
      "(298, 1) (1, 1)\n",
      "--------------------------------------------------\n",
      "Current contaminated data point is 180.0.\n",
      "(298, 1) (1, 1)\n",
      "(298, 1) (1, 1)\n",
      "--------------------------------------------------\n",
      "Current contaminated data point is 190.0.\n",
      "(298, 1) (1, 1)\n",
      "(298, 1) (1, 1)\n",
      "--------------------------------------------------\n",
      "Current contaminated data point is 200.0.\n",
      "(298, 1) (1, 1)\n",
      "(298, 1) (1, 1)\n",
      "--------------------------------------------------\n",
      "Current contaminated data point is 210.0.\n",
      "(298, 1) (1, 1)\n",
      "(298, 1) (1, 1)\n",
      "--------------------------------------------------\n",
      "Current contaminated data point is 220.0.\n",
      "(298, 1) (1, 1)\n",
      "(298, 1) (1, 1)\n",
      "--------------------------------------------------\n",
      "Current contaminated data point is 230.0.\n",
      "(298, 1) (1, 1)\n",
      "(298, 1) (1, 1)\n",
      "--------------------------------------------------\n",
      "Current contaminated data point is 240.0.\n",
      "(298, 1) (1, 1)\n",
      "(298, 1) (1, 1)\n",
      "--------------------------------------------------\n",
      "Current contaminated data point is 250.0.\n",
      "(298, 1) (1, 1)\n",
      "(298, 1) (1, 1)\n",
      "--------------------------------------------------\n",
      "Current contaminated data point is 260.0.\n",
      "(298, 1) (1, 1)\n",
      "(298, 1) (1, 1)\n",
      "--------------------------------------------------\n",
      "Current contaminated data point is 270.0.\n",
      "(298, 1) (1, 1)\n",
      "(298, 1) (1, 1)\n",
      "--------------------------------------------------\n",
      "Current contaminated data point is 280.0.\n",
      "(298, 1) (1, 1)\n",
      "(298, 1) (1, 1)\n",
      "--------------------------------------------------\n",
      "Current contaminated data point is 290.0.\n",
      "(298, 1) (1, 1)\n",
      "(298, 1) (1, 1)\n",
      "--------------------------------------------------\n",
      "Current contaminated data point is 300.0.\n",
      "(298, 1) (1, 1)\n",
      "(298, 1) (1, 1)\n",
      "--------------------------------------------------\n",
      "Current contaminated data point is 310.0.\n",
      "(298, 1) (1, 1)\n",
      "(298, 1) (1, 1)\n",
      "--------------------------------------------------\n",
      "Current contaminated data point is 320.0.\n",
      "(298, 1) (1, 1)\n",
      "(298, 1) (1, 1)\n",
      "--------------------------------------------------\n",
      "Current contaminated data point is 330.0.\n",
      "(298, 1) (1, 1)\n",
      "(298, 1) (1, 1)\n",
      "--------------------------------------------------\n",
      "Current contaminated data point is 340.0.\n",
      "(298, 1) (1, 1)\n",
      "(298, 1) (1, 1)\n",
      "--------------------------------------------------\n",
      "Current contaminated data point is 350.0.\n",
      "(298, 1) (1, 1)\n",
      "(298, 1) (1, 1)\n",
      "--------------------------------------------------\n",
      "Current contaminated data point is 360.0.\n",
      "(298, 1) (1, 1)\n",
      "(298, 1) (1, 1)\n",
      "--------------------------------------------------\n",
      "Current contaminated data point is 370.0.\n",
      "(298, 1) (1, 1)\n",
      "(298, 1) (1, 1)\n",
      "--------------------------------------------------\n",
      "Current contaminated data point is 380.0.\n",
      "(298, 1) (1, 1)\n",
      "(298, 1) (1, 1)\n",
      "--------------------------------------------------\n",
      "Current contaminated data point is 390.0.\n",
      "(298, 1) (1, 1)\n",
      "(298, 1) (1, 1)\n",
      "--------------------------------------------------\n",
      "Current contaminated data point is 400.0.\n",
      "(298, 1) (1, 1)\n",
      "(298, 1) (1, 1)\n"
     ]
    }
   ],
   "source": [
    "# contaminated data \n",
    "contam_data_list = np.arange(90., 410., 10)\n",
    "if_norm = []\n",
    "if_limit_norm = []\n",
    "for contam_pt in contam_data_list: \n",
    "    \n",
    "    print('-' * 50)\n",
    "    print(f'Current contaminated data point is {contam_pt}.')\n",
    "    \n",
    "    contam_data = np.array([[contam_pt]])\n",
    "    \n",
    "    ifun = SMInfluenceFunction(\n",
    "        data = data_waiting, \n",
    "        contam_data = contam_data, \n",
    "        contam_weight = 1e-8, \n",
    "        penalty_param = np.exp(log_pen_param), \n",
    "        base_density = base_density, \n",
    "        bw = bw)\n",
    "    \n",
    "    if_norm.append(ifun.eval_IF_natparam_norm())\n",
    "\n",
    "    if_limit_norm.append(ifun.eval_IF_natparam_limit_norm_1d())\n",
    "            "
   ]
  },
  {
   "cell_type": "code",
   "execution_count": 7,
   "id": "869315b2",
   "metadata": {},
   "outputs": [
    {
     "data": {
      "text/plain": [
       "[<matplotlib.lines.Line2D at 0x7fb2100c1400>]"
      ]
     },
     "execution_count": 7,
     "metadata": {},
     "output_type": "execute_result"
    },
    {
     "data": {
      "image/png": "[encoded data removed]",
      "text/plain": [
       "<Figure size 432x288 with 1 Axes>"
      ]
     },
     "metadata": {
      "needs_background": "light"
     },
     "output_type": "display_data"
    }
   ],
   "source": [
    "plt.plot(contam_data_list, if_norm, 'b-')\n",
    "plt.plot(contam_data_list, if_limit_norm, 'r-')"
   ]
  },
  {
   "cell_type": "code",
   "execution_count": null,
   "id": "753c5e35",
   "metadata": {},
   "outputs": [],
   "source": []
  },
  {
   "cell_type": "code",
   "execution_count": null,
   "id": "4053d7b4",
   "metadata": {},
   "outputs": [],
   "source": []
  },
  {
   "cell_type": "code",
   "execution_count": null,
   "id": "ab97d7bc",
   "metadata": {},
   "outputs": [],
   "source": []
  },
  {
   "cell_type": "code",
   "execution_count": null,
   "id": "a7adcc60",
   "metadata": {},
   "outputs": [],
   "source": []
  }
 ],
 "metadata": {
  "kernelspec": {
   "display_name": "Python 3",
   "language": "python",
   "name": "python3"
  },
  "language_info": {
   "codemirror_mode": {
    "name": "ipython",
    "version": 3
   },
   "file_extension": ".py",
   "mimetype": "text/x-python",
   "name": "python",
   "nbconvert_exporter": "python",
   "pygments_lexer": "ipython3",
   "version": "3.8.8"
  }
 },
 "nbformat": 4,
 "nbformat_minor": 5
}
