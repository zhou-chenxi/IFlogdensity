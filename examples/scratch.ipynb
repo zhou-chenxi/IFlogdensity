{
 "cells": [
  {
   "cell_type": "code",
   "execution_count": 1,
   "id": "46514d0c",
   "metadata": {},
   "outputs": [],
   "source": [
    "import os\n",
    "import copy\n",
    "import numpy as np\n",
    "import pandas as pd\n",
    "import seaborn\n",
    "import matplotlib.pyplot as plt \n",
    "\n",
    "from dekef.base_density import *\n",
    "\n",
    "from IFdensity.contam_sm_de import *\n",
    "from IFdensity.influence_function import *\n",
    "\n",
    "from IPython.display import Markdown as md"
   ]
  },
  {
   "cell_type": "code",
   "execution_count": 2,
   "id": "8dc60fae",
   "metadata": {},
   "outputs": [],
   "source": [
    "os.chdir('/Users/chenxizhou/Dropbox/code_package/IFdensity')\n",
    "true_data = np.load('data/geyser.npy').astype(np.float64)\n",
    "df = copy.deepcopy(true_data[:, 0]).reshape(-1, 1)\n",
    "\n",
    "# original data with 108.0 removed \n",
    "data_waiting = df[df != 108.0]\n",
    "\n",
    "# bandwidth parameter in the Gaussian kernel function\n",
    "bw = 7.0\n",
    "\n",
    "# penalty parameter \n",
    "log_pen_param = -10.0\n",
    "\n",
    "# base density \n",
    "base_density = BasedenGamma(np.load('data/geyser.npy').astype(np.float64)[:, 0])\n",
    "\n",
    "plot_kwargs = plot_IF_1d_params(x_limit=(21., 410.), plot_pts_cnt = 2000)"
   ]
  },
  {
   "cell_type": "code",
   "execution_count": 11,
   "id": "fbfd8a67",
   "metadata": {
    "scrolled": true
   },
   "outputs": [
    {
     "name": "stdout",
     "output_type": "stream",
     "text": [
      "--------------------------------------------------\n",
      "Current contaminated data point is 90000.0.\n",
      "--------------------------------------------------\n",
      "Current contaminated data point is 90100.0.\n",
      "--------------------------------------------------\n",
      "Current contaminated data point is 90200.0.\n",
      "--------------------------------------------------\n",
      "Current contaminated data point is 90300.0.\n",
      "--------------------------------------------------\n",
      "Current contaminated data point is 90400.0.\n",
      "--------------------------------------------------\n",
      "Current contaminated data point is 90500.0.\n",
      "--------------------------------------------------\n",
      "Current contaminated data point is 90600.0.\n",
      "--------------------------------------------------\n",
      "Current contaminated data point is 90700.0.\n",
      "--------------------------------------------------\n",
      "Current contaminated data point is 90800.0.\n",
      "--------------------------------------------------\n",
      "Current contaminated data point is 90900.0.\n",
      "--------------------------------------------------\n",
      "Current contaminated data point is 91000.0.\n",
      "--------------------------------------------------\n",
      "Current contaminated data point is 91100.0.\n",
      "--------------------------------------------------\n",
      "Current contaminated data point is 91200.0.\n",
      "--------------------------------------------------\n",
      "Current contaminated data point is 91300.0.\n",
      "--------------------------------------------------\n",
      "Current contaminated data point is 91400.0.\n",
      "--------------------------------------------------\n",
      "Current contaminated data point is 91500.0.\n",
      "--------------------------------------------------\n",
      "Current contaminated data point is 91600.0.\n",
      "--------------------------------------------------\n",
      "Current contaminated data point is 91700.0.\n",
      "--------------------------------------------------\n",
      "Current contaminated data point is 91800.0.\n",
      "--------------------------------------------------\n",
      "Current contaminated data point is 91900.0.\n",
      "--------------------------------------------------\n",
      "Current contaminated data point is 92000.0.\n",
      "--------------------------------------------------\n",
      "Current contaminated data point is 92100.0.\n",
      "--------------------------------------------------\n",
      "Current contaminated data point is 92200.0.\n",
      "--------------------------------------------------\n",
      "Current contaminated data point is 92300.0.\n",
      "--------------------------------------------------\n",
      "Current contaminated data point is 92400.0.\n",
      "--------------------------------------------------\n",
      "Current contaminated data point is 92500.0.\n",
      "--------------------------------------------------\n",
      "Current contaminated data point is 92600.0.\n",
      "--------------------------------------------------\n",
      "Current contaminated data point is 92700.0.\n",
      "--------------------------------------------------\n",
      "Current contaminated data point is 92800.0.\n",
      "--------------------------------------------------\n",
      "Current contaminated data point is 92900.0.\n",
      "--------------------------------------------------\n",
      "Current contaminated data point is 93000.0.\n",
      "--------------------------------------------------\n",
      "Current contaminated data point is 93100.0.\n",
      "--------------------------------------------------\n",
      "Current contaminated data point is 93200.0.\n",
      "--------------------------------------------------\n",
      "Current contaminated data point is 93300.0.\n",
      "--------------------------------------------------\n",
      "Current contaminated data point is 93400.0.\n",
      "--------------------------------------------------\n",
      "Current contaminated data point is 93500.0.\n",
      "--------------------------------------------------\n",
      "Current contaminated data point is 93600.0.\n",
      "--------------------------------------------------\n",
      "Current contaminated data point is 93700.0.\n",
      "--------------------------------------------------\n",
      "Current contaminated data point is 93800.0.\n",
      "--------------------------------------------------\n",
      "Current contaminated data point is 93900.0.\n",
      "--------------------------------------------------\n",
      "Current contaminated data point is 94000.0.\n",
      "--------------------------------------------------\n",
      "Current contaminated data point is 94100.0.\n",
      "--------------------------------------------------\n",
      "Current contaminated data point is 94200.0.\n",
      "--------------------------------------------------\n",
      "Current contaminated data point is 94300.0.\n",
      "--------------------------------------------------\n",
      "Current contaminated data point is 94400.0.\n",
      "--------------------------------------------------\n",
      "Current contaminated data point is 94500.0.\n",
      "--------------------------------------------------\n",
      "Current contaminated data point is 94600.0.\n",
      "--------------------------------------------------\n",
      "Current contaminated data point is 94700.0.\n",
      "--------------------------------------------------\n",
      "Current contaminated data point is 94800.0.\n",
      "--------------------------------------------------\n",
      "Current contaminated data point is 94900.0.\n"
     ]
    }
   ],
   "source": [
    "# contaminated data \n",
    "contam_data_list = np.arange(90000., 95000., 100)\n",
    "if_norm = []\n",
    "if_limit_norm = []\n",
    "for contam_pt in contam_data_list: \n",
    "    \n",
    "    print('-' * 50)\n",
    "    print(f'Current contaminated data point is {contam_pt}.')\n",
    "    \n",
    "    contam_data = np.array([[contam_pt]])\n",
    "    \n",
    "    ifun = SMInfluenceFunction(\n",
    "        data = data_waiting, \n",
    "        contam_data = contam_data, \n",
    "        contam_weight = 1e-8, \n",
    "        penalty_param = np.exp(log_pen_param), \n",
    "        base_density = base_density, \n",
    "        bw = bw)\n",
    "    \n",
    "    if_norm.append(ifun.eval_IF_natparam_norm())\n",
    "\n",
    "    if_limit_norm.append(ifun.eval_IF_natparam_limit_norm_1d())\n",
    "            "
   ]
  },
  {
   "cell_type": "code",
   "execution_count": 12,
   "id": "5d38c8bb",
   "metadata": {},
   "outputs": [
    {
     "data": {
      "text/plain": [
       "[<matplotlib.lines.Line2D at 0x7ff349831370>]"
      ]
     },
     "execution_count": 12,
     "metadata": {},
     "output_type": "execute_result"
    },
    {
     "data": {
      "image/png": "[encoded data removed]",
      "text/plain": [
       "<Figure size 432x288 with 1 Axes>"
      ]
     },
     "metadata": {
      "needs_background": "light"
     },
     "output_type": "display_data"
    }
   ],
   "source": [
    "plt.plot(contam_data_list, if_norm, 'b-')\n",
    "plt.plot(contam_data_list, if_limit_norm, 'r-')"
   ]
  },
  {
   "cell_type": "code",
   "execution_count": 14,
   "id": "0fe8c33f",
   "metadata": {
    "scrolled": true
   },
   "outputs": [
    {
     "name": "stdout",
     "output_type": "stream",
     "text": [
      "--------------------------------------------------\n",
      "Current contaminated data point is 90000000.0.\n",
      "--------------------------------------------------\n",
      "Current contaminated data point is 90000200.0.\n",
      "--------------------------------------------------\n",
      "Current contaminated data point is 90000400.0.\n",
      "--------------------------------------------------\n",
      "Current contaminated data point is 90000600.0.\n",
      "--------------------------------------------------\n",
      "Current contaminated data point is 90000800.0.\n",
      "--------------------------------------------------\n",
      "Current contaminated data point is 90001000.0.\n",
      "--------------------------------------------------\n",
      "Current contaminated data point is 90001200.0.\n",
      "--------------------------------------------------\n",
      "Current contaminated data point is 90001400.0.\n",
      "--------------------------------------------------\n",
      "Current contaminated data point is 90001600.0.\n",
      "--------------------------------------------------\n",
      "Current contaminated data point is 90001800.0.\n",
      "--------------------------------------------------\n",
      "Current contaminated data point is 90002000.0.\n",
      "--------------------------------------------------\n",
      "Current contaminated data point is 90002200.0.\n",
      "--------------------------------------------------\n",
      "Current contaminated data point is 90002400.0.\n",
      "--------------------------------------------------\n",
      "Current contaminated data point is 90002600.0.\n",
      "--------------------------------------------------\n",
      "Current contaminated data point is 90002800.0.\n",
      "--------------------------------------------------\n",
      "Current contaminated data point is 90003000.0.\n",
      "--------------------------------------------------\n",
      "Current contaminated data point is 90003200.0.\n",
      "--------------------------------------------------\n",
      "Current contaminated data point is 90003400.0.\n",
      "--------------------------------------------------\n",
      "Current contaminated data point is 90003600.0.\n",
      "--------------------------------------------------\n",
      "Current contaminated data point is 90003800.0.\n",
      "--------------------------------------------------\n",
      "Current contaminated data point is 90004000.0.\n",
      "--------------------------------------------------\n",
      "Current contaminated data point is 90004200.0.\n",
      "--------------------------------------------------\n",
      "Current contaminated data point is 90004400.0.\n",
      "--------------------------------------------------\n",
      "Current contaminated data point is 90004600.0.\n",
      "--------------------------------------------------\n",
      "Current contaminated data point is 90004800.0.\n"
     ]
    }
   ],
   "source": [
    "# contaminated data \n",
    "contam_data_list = np.arange(90000000., 90005000., 200)\n",
    "if_norm = []\n",
    "if_limit_norm = []\n",
    "for contam_pt in contam_data_list: \n",
    "    \n",
    "    print('-' * 50)\n",
    "    print(f'Current contaminated data point is {contam_pt}.')\n",
    "    \n",
    "    contam_data = np.array([[contam_pt]])\n",
    "    \n",
    "    ifun = SMInfluenceFunction(\n",
    "        data = data_waiting, \n",
    "        contam_data = contam_data, \n",
    "        contam_weight = 1e-8, \n",
    "        penalty_param = np.exp(log_pen_param), \n",
    "        base_density = base_density, \n",
    "        bw = bw)\n",
    "    \n",
    "    if_norm.append(ifun.eval_IF_natparam_norm())\n",
    "\n",
    "    if_limit_norm.append(ifun.eval_IF_natparam_limit_norm_1d())\n",
    "            "
   ]
  },
  {
   "cell_type": "code",
   "execution_count": 15,
   "id": "7d29c9c0",
   "metadata": {},
   "outputs": [
    {
     "data": {
      "text/plain": [
       "[<matplotlib.lines.Line2D at 0x7ff36a0e8400>]"
      ]
     },
     "execution_count": 15,
     "metadata": {},
     "output_type": "execute_result"
    },
    {
     "data": {
      "image/png": "[encoded data removed]",
      "text/plain": [
       "<Figure size 432x288 with 1 Axes>"
      ]
     },
     "metadata": {
      "needs_background": "light"
     },
     "output_type": "display_data"
    }
   ],
   "source": [
    "plt.plot(contam_data_list, if_norm, 'b-')\n",
    "plt.plot(contam_data_list, if_limit_norm, 'r-')"
   ]
  },
  {
   "cell_type": "code",
   "execution_count": 16,
   "id": "45639f77",
   "metadata": {},
   "outputs": [],
   "source": [
    "contam_pt = 250.\n",
    "contam_data = np.array([[contam_pt]])\n",
    "ifun = SMInfluenceFunction(\n",
    "        data = data_waiting, \n",
    "        contam_data = contam_data, \n",
    "        contam_weight = 1e-8, \n",
    "        penalty_param = np.exp(log_pen_param), \n",
    "        base_density = base_density, \n",
    "        bw = bw)"
   ]
  },
  {
   "cell_type": "code",
   "execution_count": 18,
   "id": "a7adcc60",
   "metadata": {},
   "outputs": [
    {
     "data": {
      "text/plain": [
       "7.0"
      ]
     },
     "execution_count": 18,
     "metadata": {},
     "output_type": "execute_result"
    }
   ],
   "source": [
    "ifun.contam_density.kernel_function_data.bw"
   ]
  },
  {
   "cell_type": "code",
   "execution_count": 23,
   "id": "139238a0",
   "metadata": {},
   "outputs": [
    {
     "data": {
      "text/plain": [
       "array([[ 1.24947938e-03, -7.62823489e-04,  1.03251647e-04, ...,\n",
       "         1.23220335e-04, -6.78639828e-04,  1.18648472e-03],\n",
       "       [-7.62823489e-04,  1.24947938e-03, -2.81831077e-04, ...,\n",
       "        -4.30507683e-04,  5.23313305e-05, -6.78639828e-04],\n",
       "       [ 1.03251647e-04, -2.81831077e-04,  1.24947938e-03, ...,\n",
       "         1.18648472e-03,  6.19688074e-06,  1.23220335e-04],\n",
       "       ...,\n",
       "       [ 1.23220335e-04, -4.30507683e-04,  1.18648472e-03, ...,\n",
       "         1.24947938e-03,  9.84487501e-06,  1.38804621e-04],\n",
       "       [-6.78639828e-04,  5.23313305e-05,  6.19688074e-06, ...,\n",
       "         9.84487501e-06,  1.24947938e-03, -7.62823489e-04],\n",
       "       [ 1.18648472e-03, -6.78639828e-04,  1.23220335e-04, ...,\n",
       "         1.38804621e-04, -7.62823489e-04,  1.24947938e-03]])"
      ]
     },
     "execution_count": 23,
     "metadata": {},
     "output_type": "execute_result"
    }
   ],
   "source": [
    "ifun.contam_density.kernel_function_data.partial_kernel_matrix_22(new_data = data_waiting.reshape(-1, 1))"
   ]
  },
  {
   "cell_type": "code",
   "execution_count": 25,
   "id": "454e0813",
   "metadata": {},
   "outputs": [
    {
     "data": {
      "text/plain": [
       "0.0012494793835901709"
      ]
     },
     "execution_count": 25,
     "metadata": {},
     "output_type": "execute_result"
    }
   ],
   "source": [
    "3/7**4"
   ]
  },
  {
   "cell_type": "code",
   "execution_count": null,
   "id": "6fc66e06",
   "metadata": {},
   "outputs": [],
   "source": []
  }
 ],
 "metadata": {
  "kernelspec": {
   "display_name": "Python 3",
   "language": "python",
   "name": "python3"
  },
  "language_info": {
   "codemirror_mode": {
    "name": "ipython",
    "version": 3
   },
   "file_extension": ".py",
   "mimetype": "text/x-python",
   "name": "python",
   "nbconvert_exporter": "python",
   "pygments_lexer": "ipython3",
   "version": "3.8.8"
  }
 },
 "nbformat": 4,
 "nbformat_minor": 5
}
