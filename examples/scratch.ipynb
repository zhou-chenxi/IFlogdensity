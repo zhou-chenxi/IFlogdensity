{
 "cells": [
  {
   "cell_type": "code",
   "execution_count": null,
   "id": "46514d0c",
   "metadata": {},
   "outputs": [],
   "source": [
    "import os\n",
    "import copy\n",
    "import numpy as np\n",
    "import pandas as pd\n",
    "import seaborn\n",
    "\n",
    "from IFdensity.contam_sm_de import *\n",
    "from IFdensity.influence_function import *\n",
    "\n",
    "from IPython.display import Markdown as md"
   ]
  },
  {
   "cell_type": "code",
   "execution_count": null,
   "id": "8dc60fae",
   "metadata": {},
   "outputs": [],
   "source": [
    "os.chdir('/Users/chenxizhou/Dropbox/code_package/IFdensity')\n",
    "true_data = np.load('data/geyser.npy').astype(np.float64)\n",
    "df = copy.deepcopy(true_data[:, 0]).reshape(-1, 1)\n",
    "\n",
    "# original data with 108.0 removed \n",
    "data_waiting = df[df != 108.0]\n",
    "\n",
    "# bandwidth parameter in the Gaussian kernel function\n",
    "bw = 7.0\n",
    "\n",
    "# penalty parameter \n",
    "log_pen_param = -10.0\n",
    "\n",
    "# base density \n",
    "base_density = BasedenGamma(np.load('data/geyser.npy').astype(np.float64)[:, 0])\n",
    "\n",
    "plot_kwargs = plot_IF_1d_params(x_limit=(21., 410.), plot_pts_cnt = 2000)"
   ]
  },
  {
   "cell_type": "code",
   "execution_count": null,
   "id": "fbfd8a67",
   "metadata": {
    "scrolled": false
   },
   "outputs": [],
   "source": [
    "# contaminated data \n",
    "contam_data_list = np.array([110.]) # np.arange(., 410., 10)\n",
    "for contam_pt in contam_data_list: \n",
    "    \n",
    "    print('-' * 50)\n",
    "    print(f'Current contaminated data point is {contam_pt}.')\n",
    "    \n",
    "    contam_data = np.array([[contam_pt]])\n",
    "    \n",
    "    ifun = SMInfluenceFunction(\n",
    "        data = data_waiting, \n",
    "        contam_data = contam_data, \n",
    "        contam_weight = 1e-8, \n",
    "        penalty_param = np.exp(log_pen_param), \n",
    "        base_density = base_density, \n",
    "        bw = bw)\n",
    "    \n",
    "    if_vals0 = ifun.plot_IF_logdensity_1d(\n",
    "        plot_kwargs = plot_kwargs, \n",
    "        x_label = 'waiting')\n",
    "    \n",
    "    if_vals = ifun.plot_IF_natparam_1d(\n",
    "        plot_kwargs = plot_kwargs, \n",
    "        x_label = 'waiting')\n",
    "    \n",
    "    if_vals1 = ifun.plot_IF_natparam_limit_1d(\n",
    "        plot_kwargs = plot_kwargs, \n",
    "        x_label = 'waiting')\n",
    "    "
   ]
  },
  {
   "cell_type": "code",
   "execution_count": null,
   "id": "9c8d0f20",
   "metadata": {},
   "outputs": [],
   "source": []
  },
  {
   "cell_type": "code",
   "execution_count": null,
   "id": "f8289c75",
   "metadata": {},
   "outputs": [],
   "source": []
  },
  {
   "cell_type": "code",
   "execution_count": null,
   "id": "54d42377",
   "metadata": {},
   "outputs": [],
   "source": []
  },
  {
   "cell_type": "code",
   "execution_count": null,
   "id": "aadc5326",
   "metadata": {},
   "outputs": [],
   "source": []
  },
  {
   "cell_type": "code",
   "execution_count": 4,
   "id": "5243dbbd",
   "metadata": {},
   "outputs": [
    {
     "data": {
      "text/plain": [
       "1.3611554330980027"
      ]
     },
     "execution_count": 4,
     "metadata": {},
     "output_type": "execute_result"
    }
   ],
   "source": [
    "import numpy as np \n",
    "coef = np.random.rand(5).reshape(-1, 1)\n",
    "K = np.random.rand(25).reshape(5, 5)\n",
    "np.sqrt(np.matmul(coef.T, (np.matmul(K, coef))).item())"
   ]
  },
  {
   "cell_type": "code",
   "execution_count": null,
   "id": "a7adcc60",
   "metadata": {},
   "outputs": [],
   "source": []
  }
 ],
 "metadata": {
  "kernelspec": {
   "display_name": "Python 3",
   "language": "python",
   "name": "python3"
  },
  "language_info": {
   "codemirror_mode": {
    "name": "ipython",
    "version": 3
   },
   "file_extension": ".py",
   "mimetype": "text/x-python",
   "name": "python",
   "nbconvert_exporter": "python",
   "pygments_lexer": "ipython3",
   "version": "3.8.8"
  }
 },
 "nbformat": 4,
 "nbformat_minor": 5
}
